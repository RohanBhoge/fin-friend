{
 "cells": [
  {
   "cell_type": "code",
   "execution_count": 1,
   "id": "dc1b6ece",
   "metadata": {},
   "outputs": [
    {
     "data": {
      "text/plain": [
       "True"
      ]
     },
     "execution_count": 1,
     "metadata": {},
     "output_type": "execute_result"
    }
   ],
   "source": [
    "import os\n",
    "from dotenv import load_dotenv\n",
    "\n",
    "# --- LangChain & Google Gemini Imports ---\n",
    "from langchain.text_splitter import RecursiveCharacterTextSplitter\n",
    "from langchain_community.document_loaders import DirectoryLoader, TextLoader\n",
    "from langchain_google_genai import GoogleGenerativeAIEmbeddings\n",
    "from langchain_community.vectorstores import FAISS\n",
    "from langchain_google_genai import ChatGoogleGenerativeAI\n",
    "from langchain_core.prompts import ChatPromptTemplate\n",
    "from langchain_core.output_parsers import StrOutputParser\n",
    "from langchain_community.embeddings import HuggingFaceEmbeddings\n",
    "\n",
    "# Load environment variables from .env file\n",
    "load_dotenv()"
   ]
  },
  {
   "cell_type": "code",
   "execution_count": 2,
   "id": "44587518",
   "metadata": {},
   "outputs": [],
   "source": [
    "# --- Configuration ---\n",
    "FAISS_INDEX_PATH = \"faiss_store_finfriend_gemini\"\n",
    "DOC_DIRECTORY = \"./documents\"\n",
    "\n",
    "# Check if the API key is available\n",
    "if not os.getenv(\"GOOGLE_API_KEY\"):\n",
    "    raise ValueError(\"GOOGLE_API_KEY not found. Please set it in your .env file.\")"
   ]
  },
  {
   "cell_type": "code",
   "execution_count": 3,
   "id": "e94324d9",
   "metadata": {},
   "outputs": [
    {
     "name": "stdout",
     "output_type": "stream",
     "text": [
      "Initializing Google Gemini models...\n"
     ]
    },
    {
     "name": "stderr",
     "output_type": "stream",
     "text": [
      "C:\\Users\\bhoge\\AppData\\Local\\Temp\\ipykernel_5740\\2391077354.py:5: LangChainDeprecationWarning: The class `HuggingFaceEmbeddings` was deprecated in LangChain 0.2.2 and will be removed in 1.0. An updated version of the class exists in the :class:`~langchain-huggingface package and should be used instead. To use it run `pip install -U :class:`~langchain-huggingface` and import as `from :class:`~langchain_huggingface import HuggingFaceEmbeddings``.\n",
      "  embeddings = HuggingFaceEmbeddings(\n"
     ]
    },
    {
     "name": "stdout",
     "output_type": "stream",
     "text": [
      "Models initialized successfully! ✅\n"
     ]
    }
   ],
   "source": [
    "# --- Initialize Models ---\n",
    "print(\"Initializing Google Gemini models...\")\n",
    "\n",
    "# Initialize the embedding model\n",
    "embeddings = HuggingFaceEmbeddings(\n",
    "    model_name='all-MiniLM-L6-v2'\n",
    ")\n",
    "\n",
    "# Initialize the language model\n",
    "llm = ChatGoogleGenerativeAI(\n",
    "    model=\"gemini-pro\",\n",
    "    temperature=0.7,\n",
    "    google_api_key=os.getenv(\"GOOGLE_API_KEY\")\n",
    ")\n",
    "\n",
    "print(\"Models initialized successfully! ✅\")"
   ]
  },
  {
   "cell_type": "code",
   "execution_count": 4,
   "id": "1bad340b",
   "metadata": {},
   "outputs": [
    {
     "name": "stdout",
     "output_type": "stream",
     "text": [
      "Processing documents from './documents'...\n",
      "Split documents into 112 chunks.\n",
      "Creating and saving FAISS index...\n",
      "Index created and saved to 'faiss_store_finfriend_gemini'! ✅\n"
     ]
    }
   ],
   "source": [
    "# --- Ingestion Process ---\n",
    "print(f\"Processing documents from '{DOC_DIRECTORY}'...\")\n",
    "\n",
    "# Load all .txt files from the directory\n",
    "loader = TextLoader(\"manageMoney.txt\",encoding=\"utf-8\")\n",
    "documents = loader.load()\n",
    "\n",
    "# Split documents into manageable chunks\n",
    "text_splitter = RecursiveCharacterTextSplitter(chunk_size=1000, chunk_overlap=200)\n",
    "chunks = text_splitter.split_documents(documents)\n",
    "print(f\"Split documents into {len(chunks)} chunks.\")\n",
    "\n",
    "# Create FAISS index from the chunks\n",
    "print(\"Creating and saving FAISS index...\")\n",
    "vectorstore = FAISS.from_documents(documents=chunks, embedding=embeddings)\n",
    "\n",
    "# Save the FAISS index locally\n",
    "vectorstore.save_local(FAISS_INDEX_PATH)\n",
    "\n",
    "print(f\"Index created and saved to '{FAISS_INDEX_PATH}'! ✅\")"
   ]
  },
  {
   "cell_type": "code",
   "execution_count": 5,
   "id": "27d4ed09",
   "metadata": {},
   "outputs": [],
   "source": [
    "# A concise and direct set of instructions for the model\n",
    "FIN_FRIEND_PROMPT_INSTRUCTIONS = \"\"\"\n",
    "**INSTRUCTIONS:**\n",
    "You are Fin-Friend, an expert and empathetic financial guide in India. Your goal is to conduct a financial health check-up.\n",
    "- Analyze the user's data below using the provided context from the financial guide.\n",
    "- NEVER give direct financial advice. Frame all outputs as \"educational information\" or \"examples.\"\n",
    "- Your final analysis MUST end with the disclaimer: \"This is for informational purposes only and is not financial advice. Please consult with a qualified financial advisor before making any decisions.\"\n",
    "\"\"\"\n",
    "\n",
    "def format_user_data_for_llm(data):\n",
    "    \"\"\"\n",
    "    Formats the collected user data into a clean, human-readable string\n",
    "    for the language model.\n",
    "    \"\"\"\n",
    "    report_lines = []\n",
    "    for key, value in data.items():\n",
    "        title = key.replace('_', ' ').title()\n",
    "        \n",
    "        if isinstance(value, dict): # Correctly formats the nested expenses dictionary\n",
    "            report_lines.append(f\"**{title}:**\")\n",
    "            for sub_key, sub_value in value.items():\n",
    "                sub_title = sub_key.replace('_', ' ').title()\n",
    "                report_lines.append(f\"- {sub_title}: {sub_value}\")\n",
    "        else:\n",
    "            report_lines.append(f\"**{title}:**\\n{value}\")\n",
    "        \n",
    "        report_lines.append(\"\") # Adds a blank line for better readability\n",
    "        \n",
    "    return \"\\n\".join(report_lines)\n",
    "\n",
    "def get_user_input(prompt_text):\n",
    "    \"\"\"A helper function to handle user input.\"\"\"\n",
    "    return input(prompt_text + \"\\n> \")"
   ]
  },
  {
   "cell_type": "code",
   "execution_count": null,
   "id": "09dbcc69",
   "metadata": {},
   "outputs": [
    {
     "name": "stdout",
     "output_type": "stream",
     "text": [
      "Hello! I'm Fin-Friend... Let's get started!\n",
      "\n"
     ]
    }
   ],
   "source": [
    "# --- Phase 1: Structured Data Gathering ---\n",
    "user_data = {}\n",
    "expenses = {}\n",
    "\n",
    "print(\"Hello! I'm Fin-Friend... Let's get started!\\n\")\n",
    "\n",
    "# Gather income\n",
    "user_data['income_salary'] = get_user_input(\"First, what is your fixed monthly take-home salary?\")\n",
    "user_data['income_other'] = get_user_input(\"Do you have any other sources of income (like freelance work or bonuses)?\")\n",
    "\n",
    "# Gather expenses one by one for clean data\n",
    "print(\"\\nGreat. Now let's break down your monthly expenses. Just enter the amount for each.\")\n",
    "expenses['rent_or_emi'] = get_user_input(\"- Rent or Home Loan EMI:\")\n",
    "expenses['utilities'] = get_user_input(\"- Electricity, Water, Gas:\")\n",
    "expenses['internet_and_phone'] = get_user_input(\"- Internet & Phone Bills:\")\n",
    "expenses['groceries'] = get_user_input(\"- Groceries:\")\n",
    "expenses['eating_out'] = get_user_input(\"- Eating Out/Ordering In:\")\n",
    "expenses['transport'] = get_user_input(\"- Fuel/Public Transport:\")\n",
    "expenses['shopping'] = get_user_input(\"- Shopping (Clothes, etc.):\")\n",
    "expenses['entertainment'] = get_user_input(\"- Entertainment & Subscriptions:\")\n",
    "user_data['expenses_structured'] = expenses\n",
    "\n",
    "# Gather goals, investments, and debts\n",
    "user_data['financial_goals'] = get_user_input(\"\\nWhat are your major financial goals (e.g., vacation, car, retirement)?\")\n",
    "user_data['current_investments'] = get_user_input(\"\\nBriefly, what investments do you currently have (e.g., Mutual Funds, PPF, Stocks)?\")\n",
    "user_data['outstanding_debts'] = get_user_input(\"\\nBriefly, what outstanding debts do you have (e.g., Credit Card, Personal Loan)?\")\n",
    "\n",
    "print(\"\\nThank you for the information. Generating your personalized financial health report...\")\n",
    "\n",
    "# --- Phase 2: RAG-Powered Analysis ---\n",
    "\n",
    "# Load the saved FAISS index\n",
    "vectorstore = FAISS.load_local(FAISS_INDEX_PATH, embeddings, allow_dangerous_deserialization=True)\n",
    "retriever = vectorstore.as_retriever(search_kwargs={\"k\": 2}) # Retrieve top 2 chunks \n",
    "\n",
    "# Use the smart formatting function\n",
    "formatted_user_data = format_user_data_for_llm(user_data)\n",
    "\n",
    "# The query used to find relevant information from your financial guide\n",
    "analysis_query = \"Provide a comprehensive financial health check-up, including analysis of cash flow, savings rate, and debt. Offer educational strategies on budgeting, debt management, and investing based on this user's data.\"\n",
    "\n",
    "# Retrieve the context from your documents\n",
    "retrieved_docs = retriever.invoke(analysis_query)\n",
    "retrieved_context = \"\\n\\n\".join([doc.page_content for doc in retrieved_docs])\n",
    "\n",
    "# Define the final prompt template\n",
    "final_prompt_template = \"\"\"\n",
    "{instructions}\n",
    "\n",
    "---\n",
    "**CONTEXT FROM FINANCIAL GUIDE:**\n",
    "{context}\n",
    "---\n",
    "**USER'S FINANCIAL DATA:**\n",
    "{user_data}\n",
    "---\n",
    "**FINANCIAL HEALTH REPORT:**\n",
    "\"\"\"\n",
    "final_prompt = ChatPromptTemplate.from_template(final_prompt_template)\n",
    "\n",
    "# --- Build and Invoke the RAG Chain ---\n",
    "analysis_chain = (\n",
    "    final_prompt\n",
    "    | llm\n",
    "    | StrOutputParser()\n",
    ")\n",
    "\n",
    "# Invoke the chain with all necessary components\n",
    "final_report = analysis_chain.invoke({\n",
    "    \"instructions\": FIN_FRIEND_PROMPT_INSTRUCTIONS,\n",
    "    \"context\": retrieved_context,\n",
    "    \"user_data\": formatted_user_data\n",
    "})\n",
    "\n",
    "\n",
    "print(\"\\n\\n--- Your Financial Health Report ---\\n\")\n",
    "print(final_report)"
   ]
  },
  {
   "cell_type": "code",
   "execution_count": null,
   "id": "076c07b2",
   "metadata": {},
   "outputs": [],
   "source": []
  }
 ],
 "metadata": {
  "kernelspec": {
   "display_name": ".venv",
   "language": "python",
   "name": "python3"
  },
  "language_info": {
   "codemirror_mode": {
    "name": "ipython",
    "version": 3
   },
   "file_extension": ".py",
   "mimetype": "text/x-python",
   "name": "python",
   "nbconvert_exporter": "python",
   "pygments_lexer": "ipython3",
   "version": "3.12.0"
  }
 },
 "nbformat": 4,
 "nbformat_minor": 5
}
